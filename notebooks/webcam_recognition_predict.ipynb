{
 "cells": [
  {
   "cell_type": "code",
   "execution_count": null,
   "metadata": {},
   "outputs": [],
   "source": [
    "import os\n",
    "import numpy as np\n",
    "import matplotlib.pyplot as plt\n",
    "from tensorflow.keras.models import load_model\n",
    "import sys\n",
    "\n",
    "sys.path.append(\"../\")\n",
    "\n",
    "from functions.plot_web_img import plot_web_img\n",
    "from functions.plot_images import plot_images\n",
    "from functions.processing_img import processing_img"
   ]
  },
  {
   "cell_type": "code",
   "execution_count": null,
   "metadata": {},
   "outputs": [],
   "source": [
    "# to solve CUDA drivers issues\n",
    "os.environ[\"CUDA_VISIBLE_DEVICES\"] = \"1\""
   ]
  },
  {
   "cell_type": "markdown",
   "metadata": {},
   "source": [
    "### PREPARE DATASETS"
   ]
  },
  {
   "cell_type": "markdown",
   "metadata": {},
   "source": [
    "## dataset webcam"
   ]
  },
  {
   "cell_type": "code",
   "execution_count": null,
   "metadata": {},
   "outputs": [],
   "source": [
    "# define where are the images to analyze\n",
    "webcam_path = \"../data/webcam\"\n",
    "webcam_pics = os.listdir(webcam_path)"
   ]
  },
  {
   "cell_type": "code",
   "execution_count": null,
   "metadata": {},
   "outputs": [],
   "source": [
    "# Associate the name of the image with the image itself\n",
    "webcam_pics = {pic: plt.imread(os.path.join(webcam_path, pic)) for pic in webcam_pics}\n",
    "webcam_pics"
   ]
  },
  {
   "cell_type": "code",
   "execution_count": null,
   "metadata": {},
   "outputs": [],
   "source": [
    "# Save keys (without '.png' and '_') of the dictionary in a list named actual_digits\n",
    "actual_digits = [pic.split(\".\")[0].split(\"_\")[0] for pic in webcam_pics.keys()]\n",
    "\n",
    "actual_digits"
   ]
  },
  {
   "cell_type": "code",
   "execution_count": null,
   "metadata": {},
   "outputs": [],
   "source": [
    "processed_images = []\n",
    "for image_file in os.listdir(webcam_path):\n",
    "    full_path = os.path.join(webcam_path, image_file)\n",
    "    processed_image = processing_img(full_path)\n",
    "    processed_images.append(processed_image)\n",
    "# processed_images = np.array(processed_images)\n",
    "processed_images"
   ]
  },
  {
   "cell_type": "code",
   "execution_count": null,
   "metadata": {},
   "outputs": [],
   "source": [
    "# Plot all images in the processed_images list using the plot_web_img function\n",
    "plot_web_img(processed_images)"
   ]
  },
  {
   "cell_type": "markdown",
   "metadata": {},
   "source": [
    "## dataset drawings"
   ]
  },
  {
   "cell_type": "code",
   "execution_count": null,
   "metadata": {},
   "outputs": [],
   "source": [
    "# define where are the images to analye\n",
    "drawing_path = \"../data/drawing\"\n",
    "\n",
    "drawing_pics = os.listdir(drawing_path)\n",
    "\n",
    "drawing_pics"
   ]
  },
  {
   "cell_type": "code",
   "execution_count": null,
   "metadata": {},
   "outputs": [],
   "source": [
    "drawing_pics = {\n",
    "    pic: plt.imread(os.path.join(drawing_path, pic)) for pic in drawing_pics\n",
    "}\n",
    "drawing_pics"
   ]
  },
  {
   "cell_type": "code",
   "execution_count": null,
   "metadata": {},
   "outputs": [],
   "source": [
    "# Save keys (without '.png' and '_') of the dictionary in a list named actual_digits\n",
    "actual_digits_draw = [pic.split(\".\")[0].split(\"_\")[0] for pic in drawing_pics.keys()]\n",
    "actual_digits_draw"
   ]
  },
  {
   "cell_type": "code",
   "execution_count": null,
   "metadata": {},
   "outputs": [],
   "source": [
    "processed_draws = []\n",
    "for image_file in os.listdir(drawing_path):\n",
    "    full_path = os.path.join(drawing_path, image_file)\n",
    "    processed_draw = processing_img(full_path)\n",
    "    processed_draws.append(processed_draw)\n",
    "\n",
    "# processed_images = np.array(processed_images)\n",
    "processed_draws"
   ]
  },
  {
   "cell_type": "code",
   "execution_count": null,
   "metadata": {},
   "outputs": [],
   "source": [
    "# Plot all images in the processed_images list using the plot_images function (#wait for correction)\n",
    "# plot_images(processed_draws) #wait for correction function plot_images"
   ]
  },
  {
   "cell_type": "markdown",
   "metadata": {},
   "source": [
    "### LOAD MODEL"
   ]
  },
  {
   "cell_type": "code",
   "execution_count": null,
   "metadata": {},
   "outputs": [],
   "source": [
    "# Load the model using the absolute path\n",
    "model = load_model(\"../models/number_recon_model.keras\")"
   ]
  },
  {
   "cell_type": "code",
   "execution_count": null,
   "metadata": {},
   "outputs": [],
   "source": [
    "test_data = np.array(processed_images)"
   ]
  },
  {
   "cell_type": "markdown",
   "metadata": {},
   "source": [
    "### PREDICTIONS RESULTS"
   ]
  },
  {
   "cell_type": "code",
   "execution_count": null,
   "metadata": {},
   "outputs": [],
   "source": [
    "predictions = model.predict(test_data)\n",
    "\n",
    "predicted_digits = np.argmax(predictions, axis=1)\n",
    "\n",
    "num_images = len(test_data)\n",
    "rows = int(\n",
    "    np.ceil(num_images / 5.0)\n",
    ")  # Use np.ceil to round up to the nearest whole number\n",
    "fig, axes = plt.subplots(rows, 5, figsize=(15, rows * 3))\n",
    "axes = axes.ravel()  # Flatten the axes array\n",
    "\n",
    "# Hide axes for unused subplots\n",
    "for ax in axes[num_images:]:\n",
    "    ax.axis(\"off\")\n",
    "\n",
    "for i, image in enumerate(test_data):\n",
    "    axes[i].imshow(image, cmap=\"gray\")\n",
    "    axes[i].axis(\"off\")\n",
    "    axes[i].set_title(f\"Predicted: {predicted_digits[i]}\")\n",
    "    axes[i].set_title(f\"Predicted: {predicted_digits[i]}, Actual: {actual_digits[i]}\")\n",
    "\n",
    "plt.tight_layout()\n",
    "plt.show()"
   ]
  },
  {
   "cell_type": "code",
   "execution_count": null,
   "metadata": {},
   "outputs": [],
   "source": [
    "# Calculate accuracy\n",
    "correct = 0\n",
    "for i in range(len(predicted_digits)):\n",
    "    if predicted_digits[i] == int(actual_digits[i]):\n",
    "        correct += 1\n",
    "\n",
    "accuracy = correct / len(predicted_digits)\n",
    "\n",
    "print(f\"Accuracy: {accuracy:.0%}\")"
   ]
  }
 ],
 "metadata": {
  "kernelspec": {
   "display_name": "Python 3 (ipykernel)",
   "language": "python",
   "name": "python3"
  },
  "language_info": {
   "codemirror_mode": {
    "name": "ipython",
    "version": 3
   },
   "file_extension": ".py",
   "mimetype": "text/x-python",
   "name": "python",
   "nbconvert_exporter": "python",
   "pygments_lexer": "ipython3",
   "version": "3.11.7"
  }
 },
 "nbformat": 4,
 "nbformat_minor": 4
}
